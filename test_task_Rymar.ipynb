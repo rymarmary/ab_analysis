{
  "nbformat": 4,
  "nbformat_minor": 0,
  "metadata": {
    "colab": {
      "provenance": []
    },
    "kernelspec": {
      "name": "python3",
      "display_name": "Python 3"
    },
    "language_info": {
      "name": "python"
    }
  },
  "cells": [
    {
      "cell_type": "code",
      "execution_count": null,
      "metadata": {
        "colab": {
          "base_uri": "https://localhost:8080/"
        },
        "id": "bKK1E1l1L5u1",
        "outputId": "a48c3f2d-09c5-40f6-b56f-8620bb0b13f3"
      },
      "outputs": [
        {
          "output_type": "execute_result",
          "data": {
            "text/plain": [
              "(    order_id                  state       rub_fee   visit_id\n",
              " 0  2567621.0   canceled_by_attendee   8537.573340  949717496\n",
              " 1  2562838.0                   held   3526.946108  948593403\n",
              " 2  2595145.0                cleared  15851.047378  957724672\n",
              " 3  2543617.0                cleared   2292.514970  943946417\n",
              " 4  2543557.0  confirmed_by_attendee   1058.083832  943917941,\n",
              "                               feature_id                                value  \\\n",
              " 0  ab_listing_activity_mobile_app_banner                                false   \n",
              " 1  ab_listing_activity_mobile_app_banner  growth_catalog_improving_navigation   \n",
              " 2  ab_listing_activity_mobile_app_banner                                 true   \n",
              " 3  ab_listing_activity_mobile_app_banner                                false   \n",
              " 4  ab_listing_activity_mobile_app_banner                                false   \n",
              " \n",
              "                    started_at                         visitor_token  \\\n",
              " 0  2024-11-10 01:09:05.941117  52cff668-ae02-4780-91b7-88ffd0b2924d   \n",
              " 1  2024-11-04 03:51:13.296060  eecc763f-d7ae-4e3b-b5cc-c21d1d4f7897   \n",
              " 2  2024-10-25 13:56:49.673623  07480ae9-75fd-47a8-a340-bb1bf5c0823b   \n",
              " 3  2024-11-11 12:53:03.938054  a4ea7724-c451-421b-b4db-f0e243e5d384   \n",
              " 4  2024-11-20 22:37:36.080443  45cf085d-d5b4-464f-83ba-b0ee393106c7   \n",
              " \n",
              "     visit_id                                            url  variation_id  \\\n",
              " 0  953459586           /ru/sortavala/category/meteor-valaam             0   \n",
              " 1  950261788      /ru/st-petersburg/category/front-entrance             1   \n",
              " 2  944151721  /ru/nizhnynovgorod/category/ekskursii-boldino             1   \n",
              " 3  954212977                                     /ru/alanya             0   \n",
              " 4  959288544              /ru/moscow/category/razvlecheniya             0   \n",
              " \n",
              "    views_amount  \n",
              " 0           0.0  \n",
              " 1           1.0  \n",
              " 2           0.0  \n",
              " 3           3.0  \n",
              " 4           0.0  )"
            ]
          },
          "metadata": {},
          "execution_count": 2
        }
      ],
      "source": [
        "import pandas as pd\n",
        "\n",
        "orders = pd.read_csv('/content/ab_orders.csv')\n",
        "visits = pd.read_csv('/content/ab_visits.csv')\n",
        "\n",
        "orders.head(), visits.head()"
      ]
    },
    {
      "cell_type": "code",
      "source": [
        "# Проверка на пропуски\n",
        "print(orders.isnull().sum())\n",
        "print(visits.isnull().sum())"
      ],
      "metadata": {
        "colab": {
          "base_uri": "https://localhost:8080/"
        },
        "id": "SNhdqa_uNSpa",
        "outputId": "71dfea2a-5ef4-4ba6-c582-aeb27e1e246e"
      },
      "execution_count": null,
      "outputs": [
        {
          "output_type": "stream",
          "name": "stdout",
          "text": [
            "order_id    0\n",
            "state       0\n",
            "rub_fee     0\n",
            "visit_id    0\n",
            "dtype: int64\n",
            "feature_id       0\n",
            "value            0\n",
            "started_at       0\n",
            "visitor_token    0\n",
            "visit_id         0\n",
            "url              0\n",
            "variation_id     0\n",
            "views_amount     0\n",
            "dtype: int64\n",
            "order_id    float64\n",
            "state        object\n",
            "rub_fee     float64\n",
            "visit_id      int64\n",
            "dtype: object\n",
            "feature_id        object\n",
            "value             object\n",
            "started_at        object\n",
            "visitor_token     object\n",
            "visit_id           int64\n",
            "url               object\n",
            "variation_id       int64\n",
            "views_amount     float64\n",
            "dtype: object\n"
          ]
        }
      ]
    },
    {
      "cell_type": "code",
      "source": [
        "# Проверка типов данных\n",
        "print(orders.dtypes)\n",
        "print(visits.dtypes)"
      ],
      "metadata": {
        "colab": {
          "base_uri": "https://localhost:8080/"
        },
        "id": "vzg3K2lhOW6y",
        "outputId": "ee301dfe-a053-47ae-caa3-113901b4c537"
      },
      "execution_count": null,
      "outputs": [
        {
          "output_type": "stream",
          "name": "stdout",
          "text": [
            "order_id    float64\n",
            "state        object\n",
            "rub_fee     float64\n",
            "visit_id      int64\n",
            "dtype: object\n",
            "feature_id        object\n",
            "value             object\n",
            "started_at        object\n",
            "visitor_token     object\n",
            "visit_id           int64\n",
            "url               object\n",
            "variation_id       int64\n",
            "views_amount     float64\n",
            "dtype: object\n"
          ]
        }
      ]
    },
    {
      "cell_type": "code",
      "source": [
        "# Проверка дублей\n",
        "print(f\"Дубликаты в orders: {orders.duplicated().sum()}\")\n",
        "print(f\"Дубликаты в visits: {visits.duplicated().sum()}\")"
      ],
      "metadata": {
        "colab": {
          "base_uri": "https://localhost:8080/"
        },
        "id": "8i1dwEIVOaAM",
        "outputId": "db33b8c0-e6d9-4942-9648-f3a8fc86b0a9"
      },
      "execution_count": null,
      "outputs": [
        {
          "output_type": "stream",
          "name": "stdout",
          "text": [
            "Дубликаты в orders: 0\n",
            "Дубликаты в visits: 8426\n"
          ]
        }
      ]
    },
    {
      "cell_type": "code",
      "source": [
        "# Так как в visits есть дубликаты, то будем брать последний визит и будем суммировать просмотры\n",
        "visits = visits.groupby('visit_id', as_index=False).agg({\n",
        "    'feature_id': 'first',\n",
        "    'value': 'first',\n",
        "    'started_at': 'max',  # Берём последний визит\n",
        "    'visitor_token': 'first',\n",
        "    'url': 'first',\n",
        "    'variation_id': 'first',\n",
        "    'views_amount': 'sum'  # Суммируем просмотры\n",
        "})"
      ],
      "metadata": {
        "id": "VepEm4m6O3ip"
      },
      "execution_count": null,
      "outputs": []
    },
    {
      "cell_type": "code",
      "source": [
        "# Проверка наличия дублей после агрегирования\n",
        "print(f\"Дубликаты в visits: {visits.duplicated().sum()}\")"
      ],
      "metadata": {
        "colab": {
          "base_uri": "https://localhost:8080/"
        },
        "id": "pIrqP_8IRaAL",
        "outputId": "6a32673b-f18a-4e63-818f-80405ce382f6"
      },
      "execution_count": null,
      "outputs": [
        {
          "output_type": "stream",
          "name": "stdout",
          "text": [
            "Дубликаты в visits: 0\n"
          ]
        }
      ]
    },
    {
      "cell_type": "code",
      "source": [
        "# Объединяем таблицы по visit_id\n",
        "df = visits.merge(orders, on=\"visit_id\", how=\"left\")\n",
        "\n",
        "# Заполним столбец rub_fee 0 вместо null значений, где не было заказов\n",
        "df['rub_fee'] = df['rub_fee'].fillna(0)\n",
        "\n",
        "# Проверка структуры\n",
        "df.head()"
      ],
      "metadata": {
        "colab": {
          "base_uri": "https://localhost:8080/",
          "height": 206
        },
        "id": "i_GITTeeUFhv",
        "outputId": "f58f1b51-26ee-4d8c-92fe-cd7918a7c2b8"
      },
      "execution_count": null,
      "outputs": [
        {
          "output_type": "execute_result",
          "data": {
            "text/plain": [
              "    visit_id                             feature_id  value  \\\n",
              "0  943234725  ab_listing_activity_mobile_app_banner  false   \n",
              "1  943234758  ab_listing_activity_mobile_app_banner   true   \n",
              "2  943234768  ab_listing_activity_mobile_app_banner  false   \n",
              "3  943234774  ab_listing_activity_mobile_app_banner  false   \n",
              "4  943234783  ab_listing_activity_mobile_app_banner   true   \n",
              "\n",
              "                   started_at                         visitor_token  \\\n",
              "0  2024-10-24 00:00:05.194580  1e089bb4-baec-4774-be09-4676402d3f49   \n",
              "1  2024-10-24 00:00:12.646760  c2957a2a-b6ac-430b-82e0-369a5c788bdf   \n",
              "2  2024-10-24 00:00:16.248144  d1ac47a8-0fd6-434e-8119-ad92589f1d8b   \n",
              "3  2024-10-24 00:00:17.798008  8ad130b9-e45e-4d16-b057-91288764fd3a   \n",
              "4  2024-10-24 00:00:19.648046  2276ea8e-72fb-45cf-a50f-326c52a8d852   \n",
              "\n",
              "                                                 url  variation_id  \\\n",
              "0                                    /ru/kaliningrad             0   \n",
              "1  https://www.sputnik8.com/ru/st-petersburg/acti...             1   \n",
              "2                    /ru/tula/category/razvlecheniya             0   \n",
              "3  https://www.sputnik8.com/ru/moscow/activities/...             0   \n",
              "4  /ru/st-petersburg/category/zakrytie-fontanov-v...             1   \n",
              "\n",
              "   views_amount  order_id state  rub_fee  \n",
              "0           0.0       NaN   NaN      0.0  \n",
              "1          42.0       NaN   NaN      0.0  \n",
              "2           0.0       NaN   NaN      0.0  \n",
              "3           1.0       NaN   NaN      0.0  \n",
              "4           0.0       NaN   NaN      0.0  "
            ],
            "text/html": [
              "\n",
              "  <div id=\"df-0bf5db06-b7bc-4bf5-befd-7d7871eb0a01\" class=\"colab-df-container\">\n",
              "    <div>\n",
              "<style scoped>\n",
              "    .dataframe tbody tr th:only-of-type {\n",
              "        vertical-align: middle;\n",
              "    }\n",
              "\n",
              "    .dataframe tbody tr th {\n",
              "        vertical-align: top;\n",
              "    }\n",
              "\n",
              "    .dataframe thead th {\n",
              "        text-align: right;\n",
              "    }\n",
              "</style>\n",
              "<table border=\"1\" class=\"dataframe\">\n",
              "  <thead>\n",
              "    <tr style=\"text-align: right;\">\n",
              "      <th></th>\n",
              "      <th>visit_id</th>\n",
              "      <th>feature_id</th>\n",
              "      <th>value</th>\n",
              "      <th>started_at</th>\n",
              "      <th>visitor_token</th>\n",
              "      <th>url</th>\n",
              "      <th>variation_id</th>\n",
              "      <th>views_amount</th>\n",
              "      <th>order_id</th>\n",
              "      <th>state</th>\n",
              "      <th>rub_fee</th>\n",
              "    </tr>\n",
              "  </thead>\n",
              "  <tbody>\n",
              "    <tr>\n",
              "      <th>0</th>\n",
              "      <td>943234725</td>\n",
              "      <td>ab_listing_activity_mobile_app_banner</td>\n",
              "      <td>false</td>\n",
              "      <td>2024-10-24 00:00:05.194580</td>\n",
              "      <td>1e089bb4-baec-4774-be09-4676402d3f49</td>\n",
              "      <td>/ru/kaliningrad</td>\n",
              "      <td>0</td>\n",
              "      <td>0.0</td>\n",
              "      <td>NaN</td>\n",
              "      <td>NaN</td>\n",
              "      <td>0.0</td>\n",
              "    </tr>\n",
              "    <tr>\n",
              "      <th>1</th>\n",
              "      <td>943234758</td>\n",
              "      <td>ab_listing_activity_mobile_app_banner</td>\n",
              "      <td>true</td>\n",
              "      <td>2024-10-24 00:00:12.646760</td>\n",
              "      <td>c2957a2a-b6ac-430b-82e0-369a5c788bdf</td>\n",
              "      <td>https://www.sputnik8.com/ru/st-petersburg/acti...</td>\n",
              "      <td>1</td>\n",
              "      <td>42.0</td>\n",
              "      <td>NaN</td>\n",
              "      <td>NaN</td>\n",
              "      <td>0.0</td>\n",
              "    </tr>\n",
              "    <tr>\n",
              "      <th>2</th>\n",
              "      <td>943234768</td>\n",
              "      <td>ab_listing_activity_mobile_app_banner</td>\n",
              "      <td>false</td>\n",
              "      <td>2024-10-24 00:00:16.248144</td>\n",
              "      <td>d1ac47a8-0fd6-434e-8119-ad92589f1d8b</td>\n",
              "      <td>/ru/tula/category/razvlecheniya</td>\n",
              "      <td>0</td>\n",
              "      <td>0.0</td>\n",
              "      <td>NaN</td>\n",
              "      <td>NaN</td>\n",
              "      <td>0.0</td>\n",
              "    </tr>\n",
              "    <tr>\n",
              "      <th>3</th>\n",
              "      <td>943234774</td>\n",
              "      <td>ab_listing_activity_mobile_app_banner</td>\n",
              "      <td>false</td>\n",
              "      <td>2024-10-24 00:00:17.798008</td>\n",
              "      <td>8ad130b9-e45e-4d16-b057-91288764fd3a</td>\n",
              "      <td>https://www.sputnik8.com/ru/moscow/activities/...</td>\n",
              "      <td>0</td>\n",
              "      <td>1.0</td>\n",
              "      <td>NaN</td>\n",
              "      <td>NaN</td>\n",
              "      <td>0.0</td>\n",
              "    </tr>\n",
              "    <tr>\n",
              "      <th>4</th>\n",
              "      <td>943234783</td>\n",
              "      <td>ab_listing_activity_mobile_app_banner</td>\n",
              "      <td>true</td>\n",
              "      <td>2024-10-24 00:00:19.648046</td>\n",
              "      <td>2276ea8e-72fb-45cf-a50f-326c52a8d852</td>\n",
              "      <td>/ru/st-petersburg/category/zakrytie-fontanov-v...</td>\n",
              "      <td>1</td>\n",
              "      <td>0.0</td>\n",
              "      <td>NaN</td>\n",
              "      <td>NaN</td>\n",
              "      <td>0.0</td>\n",
              "    </tr>\n",
              "  </tbody>\n",
              "</table>\n",
              "</div>\n",
              "    <div class=\"colab-df-buttons\">\n",
              "\n",
              "  <div class=\"colab-df-container\">\n",
              "    <button class=\"colab-df-convert\" onclick=\"convertToInteractive('df-0bf5db06-b7bc-4bf5-befd-7d7871eb0a01')\"\n",
              "            title=\"Convert this dataframe to an interactive table.\"\n",
              "            style=\"display:none;\">\n",
              "\n",
              "  <svg xmlns=\"http://www.w3.org/2000/svg\" height=\"24px\" viewBox=\"0 -960 960 960\">\n",
              "    <path d=\"M120-120v-720h720v720H120Zm60-500h600v-160H180v160Zm220 220h160v-160H400v160Zm0 220h160v-160H400v160ZM180-400h160v-160H180v160Zm440 0h160v-160H620v160ZM180-180h160v-160H180v160Zm440 0h160v-160H620v160Z\"/>\n",
              "  </svg>\n",
              "    </button>\n",
              "\n",
              "  <style>\n",
              "    .colab-df-container {\n",
              "      display:flex;\n",
              "      gap: 12px;\n",
              "    }\n",
              "\n",
              "    .colab-df-convert {\n",
              "      background-color: #E8F0FE;\n",
              "      border: none;\n",
              "      border-radius: 50%;\n",
              "      cursor: pointer;\n",
              "      display: none;\n",
              "      fill: #1967D2;\n",
              "      height: 32px;\n",
              "      padding: 0 0 0 0;\n",
              "      width: 32px;\n",
              "    }\n",
              "\n",
              "    .colab-df-convert:hover {\n",
              "      background-color: #E2EBFA;\n",
              "      box-shadow: 0px 1px 2px rgba(60, 64, 67, 0.3), 0px 1px 3px 1px rgba(60, 64, 67, 0.15);\n",
              "      fill: #174EA6;\n",
              "    }\n",
              "\n",
              "    .colab-df-buttons div {\n",
              "      margin-bottom: 4px;\n",
              "    }\n",
              "\n",
              "    [theme=dark] .colab-df-convert {\n",
              "      background-color: #3B4455;\n",
              "      fill: #D2E3FC;\n",
              "    }\n",
              "\n",
              "    [theme=dark] .colab-df-convert:hover {\n",
              "      background-color: #434B5C;\n",
              "      box-shadow: 0px 1px 3px 1px rgba(0, 0, 0, 0.15);\n",
              "      filter: drop-shadow(0px 1px 2px rgba(0, 0, 0, 0.3));\n",
              "      fill: #FFFFFF;\n",
              "    }\n",
              "  </style>\n",
              "\n",
              "    <script>\n",
              "      const buttonEl =\n",
              "        document.querySelector('#df-0bf5db06-b7bc-4bf5-befd-7d7871eb0a01 button.colab-df-convert');\n",
              "      buttonEl.style.display =\n",
              "        google.colab.kernel.accessAllowed ? 'block' : 'none';\n",
              "\n",
              "      async function convertToInteractive(key) {\n",
              "        const element = document.querySelector('#df-0bf5db06-b7bc-4bf5-befd-7d7871eb0a01');\n",
              "        const dataTable =\n",
              "          await google.colab.kernel.invokeFunction('convertToInteractive',\n",
              "                                                    [key], {});\n",
              "        if (!dataTable) return;\n",
              "\n",
              "        const docLinkHtml = 'Like what you see? Visit the ' +\n",
              "          '<a target=\"_blank\" href=https://colab.research.google.com/notebooks/data_table.ipynb>data table notebook</a>'\n",
              "          + ' to learn more about interactive tables.';\n",
              "        element.innerHTML = '';\n",
              "        dataTable['output_type'] = 'display_data';\n",
              "        await google.colab.output.renderOutput(dataTable, element);\n",
              "        const docLink = document.createElement('div');\n",
              "        docLink.innerHTML = docLinkHtml;\n",
              "        element.appendChild(docLink);\n",
              "      }\n",
              "    </script>\n",
              "  </div>\n",
              "\n",
              "\n",
              "<div id=\"df-8d5a7115-63cf-4d96-abae-c9cca7c41ae6\">\n",
              "  <button class=\"colab-df-quickchart\" onclick=\"quickchart('df-8d5a7115-63cf-4d96-abae-c9cca7c41ae6')\"\n",
              "            title=\"Suggest charts\"\n",
              "            style=\"display:none;\">\n",
              "\n",
              "<svg xmlns=\"http://www.w3.org/2000/svg\" height=\"24px\"viewBox=\"0 0 24 24\"\n",
              "     width=\"24px\">\n",
              "    <g>\n",
              "        <path d=\"M19 3H5c-1.1 0-2 .9-2 2v14c0 1.1.9 2 2 2h14c1.1 0 2-.9 2-2V5c0-1.1-.9-2-2-2zM9 17H7v-7h2v7zm4 0h-2V7h2v10zm4 0h-2v-4h2v4z\"/>\n",
              "    </g>\n",
              "</svg>\n",
              "  </button>\n",
              "\n",
              "<style>\n",
              "  .colab-df-quickchart {\n",
              "      --bg-color: #E8F0FE;\n",
              "      --fill-color: #1967D2;\n",
              "      --hover-bg-color: #E2EBFA;\n",
              "      --hover-fill-color: #174EA6;\n",
              "      --disabled-fill-color: #AAA;\n",
              "      --disabled-bg-color: #DDD;\n",
              "  }\n",
              "\n",
              "  [theme=dark] .colab-df-quickchart {\n",
              "      --bg-color: #3B4455;\n",
              "      --fill-color: #D2E3FC;\n",
              "      --hover-bg-color: #434B5C;\n",
              "      --hover-fill-color: #FFFFFF;\n",
              "      --disabled-bg-color: #3B4455;\n",
              "      --disabled-fill-color: #666;\n",
              "  }\n",
              "\n",
              "  .colab-df-quickchart {\n",
              "    background-color: var(--bg-color);\n",
              "    border: none;\n",
              "    border-radius: 50%;\n",
              "    cursor: pointer;\n",
              "    display: none;\n",
              "    fill: var(--fill-color);\n",
              "    height: 32px;\n",
              "    padding: 0;\n",
              "    width: 32px;\n",
              "  }\n",
              "\n",
              "  .colab-df-quickchart:hover {\n",
              "    background-color: var(--hover-bg-color);\n",
              "    box-shadow: 0 1px 2px rgba(60, 64, 67, 0.3), 0 1px 3px 1px rgba(60, 64, 67, 0.15);\n",
              "    fill: var(--button-hover-fill-color);\n",
              "  }\n",
              "\n",
              "  .colab-df-quickchart-complete:disabled,\n",
              "  .colab-df-quickchart-complete:disabled:hover {\n",
              "    background-color: var(--disabled-bg-color);\n",
              "    fill: var(--disabled-fill-color);\n",
              "    box-shadow: none;\n",
              "  }\n",
              "\n",
              "  .colab-df-spinner {\n",
              "    border: 2px solid var(--fill-color);\n",
              "    border-color: transparent;\n",
              "    border-bottom-color: var(--fill-color);\n",
              "    animation:\n",
              "      spin 1s steps(1) infinite;\n",
              "  }\n",
              "\n",
              "  @keyframes spin {\n",
              "    0% {\n",
              "      border-color: transparent;\n",
              "      border-bottom-color: var(--fill-color);\n",
              "      border-left-color: var(--fill-color);\n",
              "    }\n",
              "    20% {\n",
              "      border-color: transparent;\n",
              "      border-left-color: var(--fill-color);\n",
              "      border-top-color: var(--fill-color);\n",
              "    }\n",
              "    30% {\n",
              "      border-color: transparent;\n",
              "      border-left-color: var(--fill-color);\n",
              "      border-top-color: var(--fill-color);\n",
              "      border-right-color: var(--fill-color);\n",
              "    }\n",
              "    40% {\n",
              "      border-color: transparent;\n",
              "      border-right-color: var(--fill-color);\n",
              "      border-top-color: var(--fill-color);\n",
              "    }\n",
              "    60% {\n",
              "      border-color: transparent;\n",
              "      border-right-color: var(--fill-color);\n",
              "    }\n",
              "    80% {\n",
              "      border-color: transparent;\n",
              "      border-right-color: var(--fill-color);\n",
              "      border-bottom-color: var(--fill-color);\n",
              "    }\n",
              "    90% {\n",
              "      border-color: transparent;\n",
              "      border-bottom-color: var(--fill-color);\n",
              "    }\n",
              "  }\n",
              "</style>\n",
              "\n",
              "  <script>\n",
              "    async function quickchart(key) {\n",
              "      const quickchartButtonEl =\n",
              "        document.querySelector('#' + key + ' button');\n",
              "      quickchartButtonEl.disabled = true;  // To prevent multiple clicks.\n",
              "      quickchartButtonEl.classList.add('colab-df-spinner');\n",
              "      try {\n",
              "        const charts = await google.colab.kernel.invokeFunction(\n",
              "            'suggestCharts', [key], {});\n",
              "      } catch (error) {\n",
              "        console.error('Error during call to suggestCharts:', error);\n",
              "      }\n",
              "      quickchartButtonEl.classList.remove('colab-df-spinner');\n",
              "      quickchartButtonEl.classList.add('colab-df-quickchart-complete');\n",
              "    }\n",
              "    (() => {\n",
              "      let quickchartButtonEl =\n",
              "        document.querySelector('#df-8d5a7115-63cf-4d96-abae-c9cca7c41ae6 button');\n",
              "      quickchartButtonEl.style.display =\n",
              "        google.colab.kernel.accessAllowed ? 'block' : 'none';\n",
              "    })();\n",
              "  </script>\n",
              "</div>\n",
              "    </div>\n",
              "  </div>\n"
            ],
            "application/vnd.google.colaboratory.intrinsic+json": {
              "type": "dataframe",
              "variable_name": "df"
            }
          },
          "metadata": {},
          "execution_count": 15
        }
      ]
    },
    {
      "cell_type": "markdown",
      "source": [
        "# **Расчёт основных метрик**"
      ],
      "metadata": {
        "id": "hA6f1a4sW0IO"
      }
    },
    {
      "cell_type": "code",
      "source": [
        "# Конверсия в заказ\n",
        "conversion = df.groupby(\"value\")['order_id'].count() / df.groupby(\"value\")['visit_id'].count()\n",
        "print(conversion)"
      ],
      "metadata": {
        "colab": {
          "base_uri": "https://localhost:8080/"
        },
        "id": "cHO4aS80XBFe",
        "outputId": "d16ec6d9-c865-4e3a-f316-16a70489ab4f"
      },
      "execution_count": null,
      "outputs": [
        {
          "output_type": "stream",
          "name": "stdout",
          "text": [
            "value\n",
            "false                                  0.029780\n",
            "growth_catalog_improving_navigation    0.029823\n",
            "true                                   0.028418\n",
            "dtype: float64\n"
          ]
        }
      ]
    },
    {
      "cell_type": "code",
      "source": [
        "# Конверсия в успешный заказ, то есть статусы cleared и held\n",
        "df['success'] = df['state'].isin(['cleared', 'held']).astype(int)\n",
        "conversion_success = df.groupby(\"value\")['success'].mean()\n",
        "print(conversion_success)"
      ],
      "metadata": {
        "colab": {
          "base_uri": "https://localhost:8080/"
        },
        "id": "o3HbfEYaXEQz",
        "outputId": "b7c9f499-39dd-43cb-f553-b2b8d05c479d"
      },
      "execution_count": null,
      "outputs": [
        {
          "output_type": "stream",
          "name": "stdout",
          "text": [
            "value\n",
            "false                                  0.016180\n",
            "growth_catalog_improving_navigation    0.015575\n",
            "true                                   0.016363\n",
            "Name: success, dtype: float64\n"
          ]
        }
      ]
    },
    {
      "cell_type": "code",
      "source": [
        "# Средний чек\n",
        "rub_fee_avg = df.groupby(\"value\")['rub_fee'].mean()\n",
        "print(rub_fee_avg)"
      ],
      "metadata": {
        "colab": {
          "base_uri": "https://localhost:8080/"
        },
        "id": "57sgFgLxXIEp",
        "outputId": "23e27688-55bf-4239-8fff-240b8b6c0f04"
      },
      "execution_count": null,
      "outputs": [
        {
          "output_type": "stream",
          "name": "stdout",
          "text": [
            "value\n",
            "false                                  155.209166\n",
            "growth_catalog_improving_navigation    155.380263\n",
            "true                                   148.759408\n",
            "Name: rub_fee, dtype: float64\n"
          ]
        }
      ]
    },
    {
      "cell_type": "code",
      "source": [
        "# Глубина просмотра\n",
        "views_avg = df.groupby(\"value\")['views_amount'].mean()\n",
        "print(views_avg)"
      ],
      "metadata": {
        "colab": {
          "base_uri": "https://localhost:8080/"
        },
        "id": "RO0FAsUAXR_6",
        "outputId": "b83c42d8-6a5a-4e10-8aa1-1f09db49e813"
      },
      "execution_count": null,
      "outputs": [
        {
          "output_type": "stream",
          "name": "stdout",
          "text": [
            "value\n",
            "false                                  2.947243\n",
            "growth_catalog_improving_navigation    2.639780\n",
            "true                                   5.522378\n",
            "Name: views_amount, dtype: float64\n"
          ]
        }
      ]
    },
    {
      "cell_type": "markdown",
      "source": [
        "# **Расчёт p-value для полученных метрик**"
      ],
      "metadata": {
        "id": "itCAqZZtbKbD"
      }
    },
    {
      "cell_type": "code",
      "source": [
        "# Z-тест для конверсии\n",
        "from statsmodels.stats.proportion import proportions_ztest\n",
        "\n",
        "# Количество заказов и визитов по группам\n",
        "orders_test = df[df['value'] == 'growth_catalog_improving_navigation']['order_id'].count()\n",
        "visits_test = df[df['value'] == 'growth_catalog_improving_navigation']['visit_id'].count()\n",
        "\n",
        "orders_control = df[df['value'] == 'false']['order_id'].count()\n",
        "visits_control = df[df['value'] == 'false']['visit_id'].count()\n",
        "\n",
        "# Z-тест\n",
        "z_stat, p_val = proportions_ztest([orders_test, orders_control], [visits_test, visits_control])\n",
        "print(f'Z-stat: {z_stat:.2f}, p-value: {p_val:.4f}')"
      ],
      "metadata": {
        "colab": {
          "base_uri": "https://localhost:8080/"
        },
        "id": "EQd3dz7cZR7y",
        "outputId": "1350afb6-427f-4217-8d47-7599d79613d5"
      },
      "execution_count": 37,
      "outputs": [
        {
          "output_type": "stream",
          "name": "stdout",
          "text": [
            "Z-stat: 0.10, p-value: 0.9196\n"
          ]
        }
      ]
    },
    {
      "cell_type": "code",
      "source": [
        "# T-тест для среднего\n",
        "from scipy.stats import ttest_ind\n",
        "\n",
        "t_stat, p_value = ttest_ind(\n",
        "    df[df['value'] == 'growth_catalog_improving_navigation']['rub_fee'],\n",
        "    df[df['value'] == 'false']['rub_fee'],\n",
        "    equal_var=False\n",
        ")\n",
        "\n",
        "print(f'T-stat: {t_stat:.2f}, p-value: {p_value:.4f}')"
      ],
      "metadata": {
        "colab": {
          "base_uri": "https://localhost:8080/"
        },
        "id": "6P7eHu5QZV33",
        "outputId": "2573ef42-b6e9-45be-a493-b6899b73853f"
      },
      "execution_count": 38,
      "outputs": [
        {
          "output_type": "stream",
          "name": "stdout",
          "text": [
            "T-stat: 0.05, p-value: 0.9614\n"
          ]
        }
      ]
    },
    {
      "cell_type": "code",
      "source": [
        "# U-тест (критерий Манна-Уитни, так как рспределение не всегда равномерное) для глубины просмотра\n",
        "from scipy.stats import mannwhitneyu\n",
        "\n",
        "u_stat, p_value = mannwhitneyu(\n",
        "    df[df['value'] == 'growth_catalog_improving_navigation']['views_amount'],\n",
        "    df[df['value'] == 'false']['views_amount']\n",
        ")\n",
        "\n",
        "print(f'U-stat: {u_stat}, p-value: {p_value:.4f}')"
      ],
      "metadata": {
        "colab": {
          "base_uri": "https://localhost:8080/"
        },
        "id": "r9NUIIxxZWKT",
        "outputId": "3ad8b675-b5e8-4d50-f9f3-e1a859de3746"
      },
      "execution_count": 39,
      "outputs": [
        {
          "output_type": "stream",
          "name": "stdout",
          "text": [
            "U-stat: 52830890421.0, p-value: 0.0000\n"
          ]
        }
      ]
    },
    {
      "cell_type": "code",
      "source": [
        "# Проверка корректности использования критерия Манна-Уитни\n",
        "import seaborn as sns\n",
        "import matplotlib.pyplot as plt\n",
        "\n",
        "# Boxplot глубины просмотра\n",
        "plt.figure(figsize=(8, 5))\n",
        "sns.boxplot(data=df, x='value', y='views_amount')\n",
        "plt.title('Ящик с усами для глубины просмотра')\n",
        "plt.show()"
      ],
      "metadata": {
        "colab": {
          "base_uri": "https://localhost:8080/",
          "height": 487
        },
        "id": "SLXvDNaNcnzy",
        "outputId": "a90e02d8-95f5-43dc-9954-72a0377491b0"
      },
      "execution_count": null,
      "outputs": [
        {
          "output_type": "display_data",
          "data": {
            "text/plain": [
              "<Figure size 800x500 with 1 Axes>"
            ],
            "image/png": "[encoded data removed]"
          },
          "metadata": {}
        }
      ]
    }
  ]
}